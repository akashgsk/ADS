{
 "cells": [
  {
   "cell_type": "code",
   "execution_count": 2,
   "id": "33d8fbaf",
   "metadata": {},
   "outputs": [],
   "source": [
    "class SimpleQueue:\n",
    "    \n",
    "    def __init__(self):\n",
    "        self.data=[]\n",
    "        self.count=0\n",
    "        \n",
    "    def getElementCount(self):\n",
    "        return self.count\n",
    "    \n",
    "    def isQueueEmpty(self):\n",
    "        return self.count==0\n",
    "    \n",
    "    #Add element to front\n",
    "    def enqueue(self,ele):\n",
    "        self.data.append(ele)\n",
    "        self.count+=1\n",
    "        return self.count\n",
    "    \n",
    "    #Remove element from rear\n",
    "    def dequeue(self):\n",
    "        if not self.isQueueEmpty():\n",
    "            self.count-=1\n",
    "            return self.data.pop(0)\n",
    "        else:\n",
    "            return None\n",
    "        \n",
    "    #Get element at rear\n",
    "    def peek(self):\n",
    "        if not self.isQueueEmpty():\n",
    "            return self.data[0]\n",
    "        else:\n",
    "            return None\n",
    "        \n",
    "    def printElements(self):\n",
    "        return self.data\n",
    "    "
   ]
  }
 ],
 "metadata": {
  "kernelspec": {
   "display_name": "Python 3 (ipykernel)",
   "language": "python",
   "name": "python3"
  },
  "language_info": {
   "codemirror_mode": {
    "name": "ipython",
    "version": 3
   },
   "file_extension": ".py",
   "mimetype": "text/x-python",
   "name": "python",
   "nbconvert_exporter": "python",
   "pygments_lexer": "ipython3",
   "version": "3.11.4"
  }
 },
 "nbformat": 4,
 "nbformat_minor": 5
}
