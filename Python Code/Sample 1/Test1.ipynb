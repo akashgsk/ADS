{
 "cells": [
  {
   "cell_type": "code",
   "execution_count": 39,
   "id": "be220330",
   "metadata": {},
   "outputs": [],
   "source": [
    "%run main1.ipynb"
   ]
  },
  {
   "cell_type": "code",
   "execution_count": 2,
   "id": "75af0791",
   "metadata": {},
   "outputs": [],
   "source": [
    "assert(swap(10,20)==(20,10))"
   ]
  },
  {
   "cell_type": "code",
   "execution_count": 3,
   "id": "ec3ed201",
   "metadata": {},
   "outputs": [],
   "source": [
    "assert(pos_neg(9)==\"Number is Positive\")\n",
    "assert(pos_neg(-9)==\"Number is Negative\")\n",
    "assert(pos_neg(0)==\"Number is zero\")"
   ]
  },
  {
   "cell_type": "code",
   "execution_count": 4,
   "id": "5053582f",
   "metadata": {},
   "outputs": [],
   "source": [
    "assert(range_div(20,4)==[4,8,12,16,20])"
   ]
  },
  {
   "cell_type": "code",
   "execution_count": 5,
   "id": "41e3bebe",
   "metadata": {},
   "outputs": [],
   "source": [
    "assert(quo_rem(21,4)==(5,1))"
   ]
  },
  {
   "cell_type": "code",
   "execution_count": 6,
   "id": "4e95fd0d",
   "metadata": {},
   "outputs": [],
   "source": [
    "assert(odd_range(10)==[1,3,5,7,9])"
   ]
  },
  {
   "cell_type": "code",
   "execution_count": 7,
   "id": "06e37526",
   "metadata": {},
   "outputs": [],
   "source": [
    "assert(sum_digit(153)==9)"
   ]
  },
  {
   "cell_type": "code",
   "execution_count": 8,
   "id": "7530c243",
   "metadata": {},
   "outputs": [],
   "source": [
    "assert(small_div(49)==7)"
   ]
  },
  {
   "cell_type": "code",
   "execution_count": 9,
   "id": "c4f024e7",
   "metadata": {},
   "outputs": [],
   "source": [
    "assert(sumofseries(1,3)==123)"
   ]
  },
  {
   "cell_type": "code",
   "execution_count": 10,
   "id": "c8040587",
   "metadata": {},
   "outputs": [],
   "source": [
    "assert(reverse(123)==321)"
   ]
  },
  {
   "cell_type": "code",
   "execution_count": 11,
   "id": "0ddad8ac",
   "metadata": {},
   "outputs": [],
   "source": [
    "assert(average([2,3,4,5,6])==4)"
   ]
  },
  {
   "cell_type": "code",
   "execution_count": 12,
   "id": "d6248a31",
   "metadata": {},
   "outputs": [],
   "source": [
    "assert(palindrome(13231)==True)"
   ]
  },
  {
   "cell_type": "code",
   "execution_count": 13,
   "id": "17d1e612",
   "metadata": {},
   "outputs": [],
   "source": [
    "assert(count(1234)==4)"
   ]
  },
  {
   "cell_type": "code",
   "execution_count": 14,
   "id": "9e4e7ab7",
   "metadata": {},
   "outputs": [],
   "source": [
    "assert(palindrome(12321)==True)"
   ]
  },
  {
   "cell_type": "code",
   "execution_count": 15,
   "id": "f346d090",
   "metadata": {},
   "outputs": [],
   "source": [
    "assert(count_occurrences(\"Hello, Hello there\",\"Hello\"))==2"
   ]
  },
  {
   "cell_type": "code",
   "execution_count": 16,
   "id": "0b9ebcbf",
   "metadata": {},
   "outputs": [],
   "source": [
    "assert(index(\"Hii I am Akash. Akash goes to college.\",\"Akash\")) == 9"
   ]
  },
  {
   "cell_type": "code",
   "execution_count": 17,
   "id": "d837ea10",
   "metadata": {},
   "outputs": [],
   "source": [
    "assert(checkForCharacters('a')==True)\n",
    "assert(checkForCharacters('1')==False)"
   ]
  },
  {
   "cell_type": "code",
   "execution_count": 18,
   "id": "f9f34c0c",
   "metadata": {},
   "outputs": [],
   "source": [
    "assert(replace(\"akash aka\")==\"$k$sh $k$\")"
   ]
  },
  {
   "cell_type": "code",
   "execution_count": 19,
   "id": "31044980",
   "metadata": {},
   "outputs": [],
   "source": [
    "assert(countVowels(\"abehikosuALEMIXOQU\")==10)"
   ]
  },
  {
   "cell_type": "code",
   "execution_count": 20,
   "id": "59a1bbde",
   "metadata": {},
   "outputs": [],
   "source": [
    "assert(replaceBlankSpace(\"My name is  Akash\")==\"My-name-is--Akash\")"
   ]
  },
  {
   "cell_type": "code",
   "execution_count": 21,
   "id": "15ec73d3",
   "metadata": {},
   "outputs": [],
   "source": [
    "assert(findLength(\"Akash\")==5)"
   ]
  },
  {
   "cell_type": "code",
   "execution_count": 22,
   "id": "fc6f5236",
   "metadata": {},
   "outputs": [],
   "source": [
    "assert(findLargerString(\"Akash\",\"Akash Kumar\")==\"Akash Kumar\")"
   ]
  },
  {
   "cell_type": "code",
   "execution_count": 23,
   "id": "270fe12e",
   "metadata": {},
   "outputs": [],
   "source": [
    "assert(countOfUpperLower(\"Akash G S Kumar\")==(4,8))"
   ]
  },
  {
   "cell_type": "code",
   "execution_count": 24,
   "id": "268caef2",
   "metadata": {},
   "outputs": [],
   "source": [
    "assert(countCharsDigits(\"Akash1234\")==(5,4))"
   ]
  },
  {
   "cell_type": "code",
   "execution_count": 25,
   "id": "044726cd",
   "metadata": {},
   "outputs": [],
   "source": [
    "assert(fullPattern(\"Akash Kumar is from Udupi\",\"Akash Kumar\")==True)"
   ]
  },
  {
   "cell_type": "code",
   "execution_count": 26,
   "id": "1daad74c",
   "metadata": {},
   "outputs": [],
   "source": [
    "assert(cumulative_Sum([1,2,4,5,7])==[1,3,7,12,19])"
   ]
  },
  {
   "cell_type": "code",
   "execution_count": 33,
   "id": "8e0203cc",
   "metadata": {},
   "outputs": [
    {
     "name": "stdout",
     "output_type": "stream",
     "text": [
      "[0.8031365325565429, 0.16470531284093093, 0.09503295899891484, 0.14612974911348464, 0.8297521464533839, 0.9108199540036929, 0.9437523715718154, 0.47660752610521817, 0.3265848087176596, 0.8549103103217918]\n"
     ]
    }
   ],
   "source": [
    "print(tenRandomNumbers())"
   ]
  },
  {
   "cell_type": "code",
   "execution_count": 40,
   "id": "bfc92789",
   "metadata": {},
   "outputs": [
    {
     "name": "stdout",
     "output_type": "stream",
     "text": [
      "[11, 14, 4, 20, 12, 8, 15, 1, 6, 9]\n"
     ]
    }
   ],
   "source": [
    "print(tenRandomNumbersRange())"
   ]
  },
  {
   "cell_type": "code",
   "execution_count": 41,
   "id": "e60cbe29",
   "metadata": {},
   "outputs": [
    {
     "name": "stdout",
     "output_type": "stream",
     "text": [
      "{1, 2, 4, 11, 16}\n"
     ]
    }
   ],
   "source": [
    "print(uniqueRandomNumbers())"
   ]
  },
  {
   "cell_type": "code",
   "execution_count": 35,
   "id": "151912e8",
   "metadata": {},
   "outputs": [
    {
     "name": "stdout",
     "output_type": "stream",
     "text": [
      "[4, 17, 27, 40, 49, 51, 67, 81, 87, 99]\n"
     ]
    }
   ],
   "source": [
    "print(randomNumbers())"
   ]
  }
 ],
 "metadata": {
  "kernelspec": {
   "display_name": "Python 3 (ipykernel)",
   "language": "python",
   "name": "python3"
  },
  "language_info": {
   "codemirror_mode": {
    "name": "ipython",
    "version": 3
   },
   "file_extension": ".py",
   "mimetype": "text/x-python",
   "name": "python",
   "nbconvert_exporter": "python",
   "pygments_lexer": "ipython3",
   "version": "3.11.4"
  }
 },
 "nbformat": 4,
 "nbformat_minor": 5
}
