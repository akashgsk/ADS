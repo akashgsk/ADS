{
 "cells": [
  {
   "cell_type": "code",
   "execution_count": 1,
   "id": "cad35ccb",
   "metadata": {},
   "outputs": [],
   "source": [
    "#Q1\n",
    "def swap(a,b):\n",
    "    a,b = b,a\n",
    "    return a,b"
   ]
  },
  {
   "cell_type": "code",
   "execution_count": 2,
   "id": "878e7fb4",
   "metadata": {},
   "outputs": [],
   "source": [
    "#Q2\n",
    "def pos_neg(a):\n",
    "    if a>0:\n",
    "        return \"Number is Positive\"\n",
    "    elif a<0:\n",
    "        return \"Number is Negative\"\n",
    "    else:\n",
    "        return \"Number is zero\""
   ]
  },
  {
   "cell_type": "code",
   "execution_count": 3,
   "id": "67141f9d",
   "metadata": {},
   "outputs": [],
   "source": [
    "#Q3\n",
    "def range_div(r,d):\n",
    "    a=[]\n",
    "    for i in range(1,r+1):\n",
    "        if(i%d == 0):\n",
    "            a.append(i)\n",
    "    return a    "
   ]
  },
  {
   "cell_type": "code",
   "execution_count": 4,
   "id": "c24e7fba",
   "metadata": {},
   "outputs": [],
   "source": [
    "#Q4\n",
    "def quo_rem(a,b):\n",
    "    q=a//b\n",
    "    r=a%b\n",
    "    return q,r"
   ]
  },
  {
   "cell_type": "code",
   "execution_count": 5,
   "id": "1772e633",
   "metadata": {},
   "outputs": [],
   "source": [
    "#Q5\n",
    "def odd_range(n):\n",
    "    a=[]\n",
    "    for i in range(0,n+1):\n",
    "        if(i%2 != 0):\n",
    "            a.append(i)\n",
    "    return(a)        \n",
    "            "
   ]
  },
  {
   "cell_type": "code",
   "execution_count": 6,
   "id": "e7e09448",
   "metadata": {},
   "outputs": [],
   "source": [
    "#Q6\n",
    "def sum_digit(n):\n",
    "    sum=0\n",
    "    while(int(n)>0):\n",
    "        x=n%10\n",
    "        sum=sum+x\n",
    "        n=n//10\n",
    "    return sum   "
   ]
  },
  {
   "cell_type": "code",
   "execution_count": 7,
   "id": "a3ea5d03",
   "metadata": {},
   "outputs": [],
   "source": [
    "#Q7\n",
    "def small_div(n):\n",
    "    for i in range(2,n):\n",
    "        if n%i==0:\n",
    "            return i"
   ]
  },
  {
   "cell_type": "code",
   "execution_count": 8,
   "id": "769bec42",
   "metadata": {},
   "outputs": [],
   "source": [
    "#Q8\n",
    "def sumofseries(n,k):\n",
    "    result = 0\n",
    "    current_term = n\n",
    "    \n",
    "    for i in range(k):\n",
    "        \n",
    "        result += current_term\n",
    "        current_term = current_term * 10 + n\n",
    "    return result"
   ]
  },
  {
   "cell_type": "code",
   "execution_count": 9,
   "id": "006c6d49",
   "metadata": {},
   "outputs": [],
   "source": [
    "#Q9\n",
    "def reverse(n):\n",
    "    sum=0\n",
    "    while(n>0): \n",
    "        digit=n%10\n",
    "        sum=sum*10+digit\n",
    "        n=n//10\n",
    "    return sum"
   ]
  },
  {
   "cell_type": "code",
   "execution_count": 10,
   "id": "c3ad53b0",
   "metadata": {},
   "outputs": [],
   "source": [
    "#Q10\n",
    "def average(n):\n",
    "    sum=0\n",
    "    for i in range(len(n)):\n",
    "        sum=sum+n[i]\n",
    "        avg=sum/len(n)\n",
    "    return avg    \n",
    "        "
   ]
  },
  {
   "cell_type": "code",
   "execution_count": 11,
   "id": "7fd8e92a",
   "metadata": {},
   "outputs": [],
   "source": [
    "#Q11\n",
    "def count(n):\n",
    "    return len(str(n))"
   ]
  },
  {
   "cell_type": "code",
   "execution_count": 12,
   "id": "a006cf79",
   "metadata": {},
   "outputs": [],
   "source": [
    "#Q12\n",
    "def palindrome(n):\n",
    "    number=n\n",
    "    rev=0\n",
    "    while(n>0):\n",
    "        digit=n%10\n",
    "        rev=rev*10+digit\n",
    "        n=n//10\n",
    "    return (rev==number)\n",
    "        "
   ]
  },
  {
   "cell_type": "code",
   "execution_count": 13,
   "id": "bb9a42b6",
   "metadata": {},
   "outputs": [],
   "source": [
    " #Q13\n",
    "def count_occurrences(main,sub):\n",
    "    count=0\n",
    "    len_main=len(main)\n",
    "    len_sub=len(sub)\n",
    "    for i in range(len_main-len_sub+1):\n",
    "        if main[i:i+len_sub] == sub:\n",
    "            count+=1\n",
    "    return count        "
   ]
  },
  {
   "cell_type": "code",
   "execution_count": 14,
   "id": "5cfae2af",
   "metadata": {},
   "outputs": [],
   "source": [
    "#Q14\n",
    "def index(main,sub):\n",
    "    for i in range(len(main)-len(sub)+1):\n",
    "        if main[i:i+len(sub)] == sub:\n",
    "            break\n",
    "    return i  "
   ]
  },
  {
   "cell_type": "code",
   "execution_count": 15,
   "id": "76f3c29a",
   "metadata": {},
   "outputs": [],
   "source": [
    "#Q15\n",
    "def checkForCharacters(a):\n",
    "    for i in range(len(a)):\n",
    "        f=0\n",
    "        if(97<=ord(a[i])<=122 or 65<=ord(a[i])<=90):\n",
    "            f=0\n",
    "        else:\n",
    "            f=1\n",
    "            break\n",
    "    if(f==1):\n",
    "        return False\n",
    "    else:\n",
    "        return True"
   ]
  },
  {
   "cell_type": "code",
   "execution_count": 16,
   "id": "9d70edde",
   "metadata": {},
   "outputs": [],
   "source": [
    "#Q16\n",
    "def replace(a):\n",
    "    a_list=list(a)\n",
    "    for i in range(len(a_list)):\n",
    "        if(a_list[i]=='a'):\n",
    "            a_list[i]='$'\n",
    "    return ''.join(a_list)"
   ]
  },
  {
   "cell_type": "code",
   "execution_count": 17,
   "id": "761ce31a",
   "metadata": {},
   "outputs": [],
   "source": [
    "#Q17\n",
    "def countVowels(n):\n",
    "    c=0\n",
    "    for i in range(len(n)):\n",
    "        if(n[i] in ['a','e','i','o','u','A','E','I','O','U']):\n",
    "            c+=1\n",
    "    return c"
   ]
  },
  {
   "cell_type": "code",
   "execution_count": 18,
   "id": "8d03e4bb",
   "metadata": {},
   "outputs": [],
   "source": [
    "#Q18\n",
    "def replaceBlankSpace(a):\n",
    "    a_list=list(a)\n",
    "    for i in range(len(a_list)):\n",
    "        if(a_list[i]==' '):\n",
    "            a_list[i]='-'\n",
    "    return ''.join(a_list)\n"
   ]
  },
  {
   "cell_type": "code",
   "execution_count": 19,
   "id": "bd839310",
   "metadata": {},
   "outputs": [],
   "source": [
    "#Q19\n",
    "def findLength(a):\n",
    "    if(a==''):\n",
    "        return 0\n",
    "    else:\n",
    "        return 1+findLength(a[1:])"
   ]
  },
  {
   "cell_type": "code",
   "execution_count": 20,
   "id": "dbce416c",
   "metadata": {},
   "outputs": [],
   "source": [
    "#Q20\n",
    "def findLargerString(a,b):\n",
    "    n=findLength(a)\n",
    "    m=findLength(b)\n",
    "    if(n>m):\n",
    "        return a\n",
    "    elif(m>n):\n",
    "        return b\n",
    "    else:\n",
    "        return \"Equal\""
   ]
  },
  {
   "cell_type": "code",
   "execution_count": 21,
   "id": "abb0c457",
   "metadata": {},
   "outputs": [],
   "source": [
    "#Q21\n",
    "def countOfUpperLower(a):\n",
    "    u=0\n",
    "    l=0\n",
    "    for i in range(len(a)):\n",
    "        if(64<ord(a[i])<91):\n",
    "            u+=1\n",
    "        elif(96<ord(a[i])<123):\n",
    "            l+=1\n",
    "        else:\n",
    "            \"Nothing\"\n",
    "    return u,l"
   ]
  },
  {
   "cell_type": "code",
   "execution_count": 22,
   "id": "a82b7b70",
   "metadata": {},
   "outputs": [],
   "source": [
    "#Q22\n",
    "def checkDigitORLetter(b):\n",
    "    if(64<ord(b)<91 or 96<ord(b)<123):\n",
    "        return True\n",
    "    else:\n",
    "        return False\n",
    "    \n",
    "def countCharsDigits(a):\n",
    "    c=0\n",
    "    d=0\n",
    "    for i in range(len(a)):\n",
    "        if(checkDigitORLetter(a[i])):\n",
    "            c+=1\n",
    "        else:\n",
    "            d+=1\n",
    "    return c,d"
   ]
  },
  {
   "cell_type": "code",
   "execution_count": 23,
   "id": "1e9d9055",
   "metadata": {},
   "outputs": [],
   "source": [
    "#Q23\n",
    "def fullPattern(a,b):\n",
    "    if(b in a):\n",
    "        return True\n",
    "    else:\n",
    "        return False"
   ]
  },
  {
   "cell_type": "code",
   "execution_count": 24,
   "id": "bc7ca183",
   "metadata": {},
   "outputs": [],
   "source": [
    "#Q24\n",
    "def cumulative_Sum(a):\n",
    "    b=[]\n",
    "    sum=0\n",
    "    for i in range(len(a)):\n",
    "        sum=sum+a[i]\n",
    "        b.append(sum)\n",
    "    return b"
   ]
  },
  {
   "cell_type": "code",
   "execution_count": 36,
   "id": "b8a666b5",
   "metadata": {},
   "outputs": [],
   "source": [
    "#Q25\n",
    "import random\n",
    "def tenRandomNumbers():\n",
    "    a=[]\n",
    "    for i in range(10):\n",
    "        a.append(random.random())\n",
    "    return a"
   ]
  },
  {
   "cell_type": "code",
   "execution_count": 37,
   "id": "8e1f3c50",
   "metadata": {},
   "outputs": [],
   "source": [
    "#Q26\n",
    "def tenRandomNumbersRange():\n",
    "    a=[]\n",
    "    for i in range(10):\n",
    "        a.append(random.randint(1,20))\n",
    "    return a"
   ]
  },
  {
   "cell_type": "code",
   "execution_count": 39,
   "id": "273250c0",
   "metadata": {},
   "outputs": [],
   "source": [
    "#Q27\n",
    "import random\n",
    "def uniqueRandomNumbers():\n",
    "    a=set()\n",
    "    for i in range(5):\n",
    "        a.add(random.randint(1,20))\n",
    "    return a"
   ]
  },
  {
   "cell_type": "code",
   "execution_count": 34,
   "id": "298f0b5a",
   "metadata": {},
   "outputs": [],
   "source": [
    "#Q28\n",
    "import random\n",
    "def randomNumbers():\n",
    "    n=1\n",
    "    while(n<101):\n",
    "        a.append(random.randint(n,n+10))\n",
    "        n=n+10\n",
    "    return a"
   ]
  }
 ],
 "metadata": {
  "kernelspec": {
   "display_name": "Python 3 (ipykernel)",
   "language": "python",
   "name": "python3"
  },
  "language_info": {
   "codemirror_mode": {
    "name": "ipython",
    "version": 3
   },
   "file_extension": ".py",
   "mimetype": "text/x-python",
   "name": "python",
   "nbconvert_exporter": "python",
   "pygments_lexer": "ipython3",
   "version": "3.11.4"
  }
 },
 "nbformat": 4,
 "nbformat_minor": 5
}
