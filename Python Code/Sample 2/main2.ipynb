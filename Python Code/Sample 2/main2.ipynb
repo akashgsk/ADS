{
 "cells": [
  {
   "cell_type": "code",
   "execution_count": 52,
   "id": "3fe4f5b2",
   "metadata": {},
   "outputs": [],
   "source": [
    "import string\n",
    "import random"
   ]
  },
  {
   "cell_type": "code",
   "execution_count": 53,
   "id": "c50b8d65",
   "metadata": {},
   "outputs": [],
   "source": [
    "#Program to sort elements\n",
    "def sort(a):\n",
    "    for i in range(len(a)):\n",
    "        for j in range(len(a)):\n",
    "            if(a[i]<a[j]):\n",
    "                t=a[i]\n",
    "                a[i]=a[j]\n",
    "                a[j]=t\n",
    "    return a"
   ]
  },
  {
   "cell_type": "code",
   "execution_count": 54,
   "id": "1d634c7d",
   "metadata": {},
   "outputs": [],
   "source": [
    "#Program to Find the Largest Number in a List\n",
    "def largestNumber(a):\n",
    "    b=sort(a)\n",
    "    return b[-1]"
   ]
  },
  {
   "cell_type": "code",
   "execution_count": 55,
   "id": "a251323c",
   "metadata": {},
   "outputs": [],
   "source": [
    "#Program to find second largest number\n",
    "def secondLargestNumber(a):\n",
    "    b=sort(a)\n",
    "    return b[-2]"
   ]
  },
  {
   "cell_type": "code",
   "execution_count": 56,
   "id": "56669f7d",
   "metadata": {},
   "outputs": [],
   "source": [
    "#Program to separate even odd numbers\n",
    "def evenOdd(a):\n",
    "    even=[]\n",
    "    odd=[]\n",
    "    for i in range(len(a)):\n",
    "        if(a[i]%2==0):\n",
    "            even.append(a[i])\n",
    "        else:\n",
    "            odd.append(a[i])\n",
    "    return even,odd"
   ]
  },
  {
   "cell_type": "code",
   "execution_count": 77,
   "id": "148e02fa",
   "metadata": {},
   "outputs": [],
   "source": [
    "#Program to check if 2 lists are same\n",
    "def ifListisSame(a,b):\n",
    "    if(len(a)==len(b)):\n",
    "        for i in a:\n",
    "            f=0\n",
    "            c=a.count(i)\n",
    "            if i not in b or b.count(i) !=c:\n",
    "                f=1\n",
    "                break\n",
    "        \n",
    "        if(f==1):\n",
    "            return False\n",
    "        else:\n",
    "            return True\n",
    "    else:\n",
    "        return False"
   ]
  },
  {
   "cell_type": "code",
   "execution_count": 58,
   "id": "d016bc47",
   "metadata": {},
   "outputs": [],
   "source": [
    "#Program to find union of 2 list\n",
    "def union(a,b):\n",
    "    c=[]\n",
    "    for i in a:\n",
    "        c.append(i)\n",
    "    for i in b:\n",
    "        c.append(i)\n",
    "    return sort(c)"
   ]
  },
  {
   "cell_type": "code",
   "execution_count": 59,
   "id": "1faebd89",
   "metadata": {},
   "outputs": [],
   "source": [
    "#Program to find intersection of 2 list\n",
    "def intersection(a,b):\n",
    "    c=[]\n",
    "    for i in a:\n",
    "        if i in b:\n",
    "            c.append(i)\n",
    "    return c"
   ]
  },
  {
   "cell_type": "code",
   "execution_count": 60,
   "id": "caa0fdb9",
   "metadata": {},
   "outputs": [],
   "source": [
    "#Program to find union and intersection without repetition\n",
    "def UnionInterSection(a,b):\n",
    "    unionList=set(union(a,b))\n",
    "    intersectionList=set(intersection(a,b))\n",
    "    return unionList, intersectionList"
   ]
  },
  {
   "cell_type": "code",
   "execution_count": 61,
   "id": "11bef08b",
   "metadata": {},
   "outputs": [],
   "source": [
    "#Program to create list of 2 tuples 1st number and the square of the number\n",
    "def squareNumberTuples(n):\n",
    "    a=[]\n",
    "    for i in range(1,n+1):\n",
    "        a.append((i,i**2))\n",
    "    return a"
   ]
  },
  {
   "cell_type": "code",
   "execution_count": 62,
   "id": "dc611602",
   "metadata": {},
   "outputs": [],
   "source": [
    "#Program to remove duplicates from list\n",
    "def removeDuplicates(a):\n",
    "    index = 0\n",
    "    while index < len(a):\n",
    "        element = a[index]\n",
    "        if a.count(element) > 1:\n",
    "            a.remove(element)\n",
    "        else:\n",
    "            index += 1\n",
    "    return a"
   ]
  },
  {
   "cell_type": "code",
   "execution_count": 63,
   "id": "08041fc7",
   "metadata": {},
   "outputs": [],
   "source": [
    "#Program to find the longest lenght word in a list and return the length\n",
    "def findLongestLenghtWord(word_list):\n",
    "    max_length = 0\n",
    "    for word in word_list:\n",
    "        if len(word) > max_length:\n",
    "            max_length = len(word)\n",
    "    return max_length"
   ]
  },
  {
   "cell_type": "code",
   "execution_count": 64,
   "id": "07245e63",
   "metadata": {},
   "outputs": [],
   "source": [
    "#Program to add key value pair to dictionary\n",
    "def addKeyValue(dictionary, key, value):\n",
    "    dictionary[key] = value\n",
    "    return dictionary"
   ]
  },
  {
   "cell_type": "code",
   "execution_count": 65,
   "id": "4425191c",
   "metadata": {},
   "outputs": [],
   "source": [
    "#Program to concatenate 2 dictionaries\n",
    "def concatDict(dict1, dict2):\n",
    "    concatenated_dict = {**dict1, **dict2}\n",
    "    return concatenated_dict"
   ]
  },
  {
   "cell_type": "code",
   "execution_count": 66,
   "id": "f2dcef4d",
   "metadata": {},
   "outputs": [],
   "source": [
    "#Program to check if key exists in dictionary\n",
    "def ifKeyExists(dict,key):\n",
    "    if key in dict:\n",
    "        return True\n",
    "    else:\n",
    "        False"
   ]
  },
  {
   "cell_type": "code",
   "execution_count": 67,
   "id": "44fe47c8",
   "metadata": {},
   "outputs": [],
   "source": [
    "#Program to generate dictionary in i, i^2 format\n",
    "def dictionaryOfSquare(n):\n",
    "    dict={}\n",
    "    for i in range(1,n+1):\n",
    "        dict[i]=i**2\n",
    "    return dict"
   ]
  },
  {
   "cell_type": "code",
   "execution_count": 68,
   "id": "1343dc7a",
   "metadata": {},
   "outputs": [],
   "source": [
    "#Program to sum all values in a dictionary\n",
    "def sumValues(dict):\n",
    "    total = sum(dict.values())\n",
    "    return total"
   ]
  },
  {
   "cell_type": "code",
   "execution_count": 69,
   "id": "348e7c39",
   "metadata": {},
   "outputs": [],
   "source": [
    "#Program to multiply all values\n",
    "def multiplyValues(dict):\n",
    "    product = 1\n",
    "    for value in dict.values():\n",
    "        product *= value\n",
    "    return product"
   ]
  },
  {
   "cell_type": "code",
   "execution_count": 70,
   "id": "8b68997d",
   "metadata": {},
   "outputs": [],
   "source": [
    "#Program to remove a key\n",
    "def removeKey(dict, key):\n",
    "    if key in dict:\n",
    "        del dict[key]\n",
    "    return dict"
   ]
  },
  {
   "cell_type": "code",
   "execution_count": 71,
   "id": "74a52b01",
   "metadata": {},
   "outputs": [],
   "source": [
    "#Program to check if dictionary is empty\n",
    "def is_empty(my_dict):\n",
    "    return not bool(my_dict)"
   ]
  },
  {
   "cell_type": "code",
   "execution_count": 72,
   "id": "3cd4549d",
   "metadata": {},
   "outputs": [],
   "source": [
    "#Program to create dictionary from tuples\n",
    "def makeDict(tuple):\n",
    "    dict = {}\n",
    "    for key, value in tuple:\n",
    "        dict[key] = value\n",
    "    return dict"
   ]
  },
  {
   "cell_type": "code",
   "execution_count": 73,
   "id": "b51b359c",
   "metadata": {},
   "outputs": [],
   "source": [
    "#Program for encrypted string\n",
    "def encryption(dict,a):\n",
    "    b=[]\n",
    "    for i in a:\n",
    "        b.append(dict[i])\n",
    "    return ''.join(b)"
   ]
  },
  {
   "cell_type": "code",
   "execution_count": 74,
   "id": "0bbf7e68",
   "metadata": {},
   "outputs": [],
   "source": [
    "\n",
    "#Program to generate random dictionary\n",
    "def randomDict(a):\n",
    "    dict={}\n",
    "    original_alphabet=list(string.ascii_letters)\n",
    "    shuffled_alphabet = original_alphabet.copy()\n",
    "    random.shuffle(shuffled_alphabet)\n",
    "    for original,encrypted in zip(original_alphabet,shuffled_alphabet):\n",
    "        dict[original]=encrypted\n",
    "    b=encryption(dict,a)\n",
    "    return b"
   ]
  },
  {
   "cell_type": "code",
   "execution_count": 75,
   "id": "aef7d921",
   "metadata": {},
   "outputs": [],
   "source": [
    "#Program to convert marks to grade\n",
    "def marksToGrade(mark):\n",
    "    if mark >= 90:\n",
    "        return 'A+'\n",
    "    elif mark >= 80:\n",
    "        return 'A'\n",
    "    elif mark >= 70:\n",
    "        return 'B'\n",
    "    elif mark >= 60:\n",
    "        return 'C'\n",
    "    elif mark >= 50:\n",
    "        return 'D'\n",
    "    else:\n",
    "        return 'F'"
   ]
  },
  {
   "cell_type": "code",
   "execution_count": 76,
   "id": "39661c1d",
   "metadata": {},
   "outputs": [],
   "source": [
    "#Program to convert marks to grade in dictionary  \n",
    "def newDictWithGrade(dict):\n",
    "    a=[]\n",
    "    for student,subject_marks in dict.items():\n",
    "        grades={}\n",
    "        for subject,marks in subject_marks.items():\n",
    "            grades[subject]=marksToGrade(marks)\n",
    "        dict[student]=grades\n",
    "    return dict"
   ]
  }
 ],
 "metadata": {
  "kernelspec": {
   "display_name": "Python 3 (ipykernel)",
   "language": "python",
   "name": "python3"
  },
  "language_info": {
   "codemirror_mode": {
    "name": "ipython",
    "version": 3
   },
   "file_extension": ".py",
   "mimetype": "text/x-python",
   "name": "python",
   "nbconvert_exporter": "python",
   "pygments_lexer": "ipython3",
   "version": "3.11.4"
  }
 },
 "nbformat": 4,
 "nbformat_minor": 5
}
