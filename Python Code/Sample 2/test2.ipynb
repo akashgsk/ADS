{
 "cells": [
  {
   "cell_type": "code",
   "execution_count": 29,
   "id": "3366de5e",
   "metadata": {},
   "outputs": [],
   "source": [
    "%run main2.ipynb"
   ]
  },
  {
   "cell_type": "code",
   "execution_count": 30,
   "id": "0e40f533",
   "metadata": {},
   "outputs": [],
   "source": [
    "assert(sort([10,8,55,41,7])==[7,8,10,41,55])"
   ]
  },
  {
   "cell_type": "code",
   "execution_count": 2,
   "id": "568f1bf7",
   "metadata": {},
   "outputs": [],
   "source": [
    "assert(largestNumber([2,3,1,5,3,9,7])==9)"
   ]
  },
  {
   "cell_type": "code",
   "execution_count": 3,
   "id": "fc8116ae",
   "metadata": {},
   "outputs": [],
   "source": [
    "assert(secondLargestNumber([2,3,1,6,3,7,4])==6)"
   ]
  },
  {
   "cell_type": "code",
   "execution_count": 4,
   "id": "3fd44ff4",
   "metadata": {},
   "outputs": [],
   "source": [
    "assert(evenOdd([2,3,1,5,3,7,4,9,10])==([2,4,10],[3,1,5,3,7,9]))"
   ]
  },
  {
   "cell_type": "code",
   "execution_count": 31,
   "id": "75ae1868",
   "metadata": {},
   "outputs": [],
   "source": [
    "assert(ifListisSame([1,2,4,3,4],[1,2,3,4,4])==True)"
   ]
  },
  {
   "cell_type": "code",
   "execution_count": 6,
   "id": "cfc53d79",
   "metadata": {},
   "outputs": [],
   "source": [
    "assert(union([1,2,3],[3,1,4,5])==[1,1,2,3,3,4,5])"
   ]
  },
  {
   "cell_type": "code",
   "execution_count": 7,
   "id": "4e4c1b95",
   "metadata": {},
   "outputs": [],
   "source": [
    "assert(intersection([1,2,3],[3,1,4,5])==[1,3])"
   ]
  },
  {
   "cell_type": "code",
   "execution_count": 8,
   "id": "004a382f",
   "metadata": {},
   "outputs": [],
   "source": [
    "assert(UnionInterSection([1,2,3],[3,1,4,5])==({1,2,3,4,5},{1,3}))"
   ]
  },
  {
   "cell_type": "code",
   "execution_count": 9,
   "id": "abdd0ec1",
   "metadata": {},
   "outputs": [],
   "source": [
    "assert(squareNumberTuples(5)==[(1, 1), (2, 4), (3, 9), (4, 16), (5, 25)])"
   ]
  },
  {
   "cell_type": "code",
   "execution_count": 10,
   "id": "0a1f85a7",
   "metadata": {},
   "outputs": [],
   "source": [
    "assert(removeDuplicates([1,2,4,2,1,3,5])==([4,2,1,3,5]))"
   ]
  },
  {
   "cell_type": "code",
   "execution_count": 11,
   "id": "b373e667",
   "metadata": {},
   "outputs": [],
   "source": [
    "assert(findLongestLenghtWord([\"Akash\",\"Akash G S\",\"Akash G S Kumar\"])==15)"
   ]
  },
  {
   "cell_type": "code",
   "execution_count": 12,
   "id": "71807b9e",
   "metadata": {},
   "outputs": [],
   "source": [
    "assert(addKeyValue({\"a\":\"akash\",1:\"b\"},\"j\",\"jar\")==({\"a\":\"akash\",1:\"b\",\"j\":\"jar\"}))"
   ]
  },
  {
   "cell_type": "code",
   "execution_count": 13,
   "id": "4bdfa68d",
   "metadata": {},
   "outputs": [],
   "source": [
    "assert(concatDict({1:1,2:4},{3:9})==({1:1,2:4,3:9}))"
   ]
  },
  {
   "cell_type": "code",
   "execution_count": 14,
   "id": "2584e236",
   "metadata": {},
   "outputs": [],
   "source": [
    "assert(ifKeyExists({1:1,2:4,3:9},2)==True)"
   ]
  },
  {
   "cell_type": "code",
   "execution_count": 15,
   "id": "bc0a93e2",
   "metadata": {},
   "outputs": [],
   "source": [
    "assert(dictionaryOfSquare(4)==({1:1,2:4,3:9,4:16}))"
   ]
  },
  {
   "cell_type": "code",
   "execution_count": 16,
   "id": "7ff1462b",
   "metadata": {},
   "outputs": [],
   "source": [
    "assert(sumValues({1:1,2:4,3:9})==14)"
   ]
  },
  {
   "cell_type": "code",
   "execution_count": 17,
   "id": "ce8bdd69",
   "metadata": {},
   "outputs": [],
   "source": [
    "assert(multiplyValues({1:1,2:4,3:9})==36)"
   ]
  },
  {
   "cell_type": "code",
   "execution_count": 18,
   "id": "bab581e8",
   "metadata": {},
   "outputs": [],
   "source": [
    "assert(removeKey({1:1,2:4,3:9},2)==({1:1,3:9}))"
   ]
  },
  {
   "cell_type": "code",
   "execution_count": 19,
   "id": "7abb0054",
   "metadata": {},
   "outputs": [],
   "source": [
    "assert(is_empty({})==True)"
   ]
  },
  {
   "cell_type": "code",
   "execution_count": 20,
   "id": "78a0dd4d",
   "metadata": {},
   "outputs": [],
   "source": [
    "assert((makeDict([(1,1),(2,4)]))==({1:1,2:4}))"
   ]
  },
  {
   "cell_type": "code",
   "execution_count": 43,
   "id": "315a2f58",
   "metadata": {},
   "outputs": [],
   "source": [
    "dict={'e': 'u', 'b': 's', 'k': 'x', 'u': 'q', 'y': \n",
    "'c', 'm': 'w', 'o': 'y', 'g': 'f', 'a': 'm', 'x': 'j', 'l': 'n', 's': \n",
    "'o', 'r': 'g', 'i': 'i', 'j': 'z', 'c': 'k', 'f': 'p', ' ': 'b', 'q': \n",
    "'r', 'z': 'e', 'p': 'v', 'v': 'l', 'h': 'h', 'd': 'd', 'n': 'a', 't': \n",
    "' ', 'w': 't'}"
   ]
  },
  {
   "cell_type": "code",
   "execution_count": 48,
   "id": "967b8b33",
   "metadata": {},
   "outputs": [],
   "source": [
    "assert(encryption(dict,\"cat\")==\"km \")"
   ]
  },
  {
   "cell_type": "code",
   "execution_count": 32,
   "id": "64298a51",
   "metadata": {},
   "outputs": [
    {
     "name": "stdout",
     "output_type": "stream",
     "text": [
      "jTzfsKYSzU\n"
     ]
    }
   ],
   "source": [
    "print(randomDict(\"AkashKumar\"))"
   ]
  },
  {
   "cell_type": "code",
   "execution_count": 33,
   "id": "52ef41a1",
   "metadata": {},
   "outputs": [
    {
     "name": "stdout",
     "output_type": "stream",
     "text": [
      "{'Akash': {'ADS': 'A+', 'ABD': 'B'}, 'Akshay': {'ADS': 'D', 'ABD': 'A'}}\n"
     ]
    }
   ],
   "source": [
    "print(newDictWithGrade({\"Akash\":{'ADS':90,'ABD':70},\"Akshay\":{'ADS':50,'ABD':80}}))"
   ]
  }
 ],
 "metadata": {
  "kernelspec": {
   "display_name": "Python 3 (ipykernel)",
   "language": "python",
   "name": "python3"
  },
  "language_info": {
   "codemirror_mode": {
    "name": "ipython",
    "version": 3
   },
   "file_extension": ".py",
   "mimetype": "text/x-python",
   "name": "python",
   "nbconvert_exporter": "python",
   "pygments_lexer": "ipython3",
   "version": "3.11.4"
  }
 },
 "nbformat": 4,
 "nbformat_minor": 5
}
